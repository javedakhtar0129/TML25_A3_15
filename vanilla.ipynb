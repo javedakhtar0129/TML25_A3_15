{
 "cells": [
  {
   "cell_type": "code",
   "execution_count": null,
   "id": "94c6db37",
   "metadata": {},
   "outputs": [
    {
     "name": "stdout",
     "output_type": "stream",
     "text": [
      "Using device: cuda\n",
      "Created directories in: /home/skhalid/JA\n"
     ]
    }
   ],
   "source": [
    "import torch\n",
    "import torch.nn as nn\n",
    "import torch.optim as optim\n",
    "from torch.utils.data import DataLoader, Dataset, random_split\n",
    "from torchvision import models, transforms\n",
    "import os\n",
    "import time\n",
    "import numpy as np\n",
    "import random\n",
    "import matplotlib.pyplot as plt\n",
    "from tqdm import tqdm\n",
    "from PIL import Image\n",
    "from typing import Tuple\n",
    "\n",
    "\n",
    "\n",
    "# Set device\n",
    "device = torch.device('cuda' if torch.cuda.is_available() else 'mps' if hasattr(torch.backends, 'mps') and torch.backends.mps.is_available() else 'cpu')\n",
    "print(f\"Using device: {device}\")\n",
    "\n",
    "\n",
    "current_dir = os.getcwd()  # Should be '/kaggle/working' on Kaggle\n",
    "os.makedirs(os.path.join(current_dir, \"checkpoints\"), exist_ok=True)\n",
    "os.makedirs(os.path.join(current_dir, \"out/models\"), exist_ok=True)\n",
    "print(f\"Created directories in: {current_dir}\")"
   ]
  },
  {
   "cell_type": "code",
   "execution_count": 2,
   "id": "02db14d3",
   "metadata": {},
   "outputs": [],
   "source": [
    "class TaskDataset(Dataset):\n",
    "    def __init__(self, transform=None):\n",
    "\n",
    "        self.ids = []\n",
    "        self.imgs = []\n",
    "        self.labels = []\n",
    "\n",
    "        self.transform = transform\n",
    "\n",
    "    def __getitem__(self, index) -> Tuple[int, torch.Tensor, int]:\n",
    "        id_ = self.ids[index]\n",
    "        img = self.imgs[index]\n",
    "        if not self.transform is None:\n",
    "            img = self.transform(img)\n",
    "            label = self.labels[index]\n",
    "        return id_, img, label\n",
    "\n",
    "    def __len__(self):\n",
    "        return len(self.ids)"
   ]
  },
  {
   "cell_type": "code",
   "execution_count": 3,
   "id": "f4ee11c3",
   "metadata": {},
   "outputs": [],
   "source": [
    "transform = transforms.Compose([\n",
    "    transforms.RandomHorizontalFlip(),\n",
    "    transforms.RandomCrop(32, padding=4),\n",
    "    transforms.ColorJitter(brightness=0.1, contrast=0.1),\n",
    "    transforms.ToTensor(),\n",
    "])\n",
    "\n",
    "# Load dataset\n",
    "dataset = torch.load(\"/home/skhalid/JA/Train.pt\", weights_only=False)\n",
    "dataset.transform = transform\n",
    "dataset.imgs = [img.convert('RGB') for img in dataset.imgs]\n",
    "\n",
    "# Create a proper three-way split\n",
    "total_size = len(dataset)\n",
    "train_size = int(0.7 * total_size)  # 70% training\n",
    "val_size = int(0.15 * total_size)   # 15% validation\n",
    "test_size = total_size - train_size - val_size  # 15% testing\n",
    "\n",
    "# Use generator for reproducibility\n",
    "generator = torch.Generator().manual_seed(42)\n",
    "train_dataset, val_dataset, test_dataset = random_split(\n",
    "    dataset, [train_size, val_size, test_size], generator=generator\n",
    ")\n",
    "\n",
    "# Create DataLoaders\n",
    "train_loader = DataLoader(train_dataset, batch_size=128, shuffle=True)\n",
    "val_loader = DataLoader(val_dataset, batch_size=128, shuffle=False)\n",
    "test_loader = DataLoader(test_dataset, batch_size=128, shuffle=False)"
   ]
  },
  {
   "cell_type": "code",
   "execution_count": 4,
   "id": "79c2a9c6",
   "metadata": {},
   "outputs": [],
   "source": [
    "def visualize_loader(loader, num_samples=10, figsize=(15, 3), title=\"Loader Samples\"):\n",
    "    \"\"\"\n",
    "    Visualize samples directly from a dataloader\n",
    "    \n",
    "    Args:\n",
    "        loader: The DataLoader to visualize (train_loader or test_loader)\n",
    "        num_samples: Number of images to display\n",
    "        figsize: Size of the figure\n",
    "        title: Title for the plot\n",
    "    \"\"\"\n",
    "    # Get a batch from the loader\n",
    "    try:\n",
    "        batch = next(iter(loader))\n",
    "        print(f\"Batch type: {type(batch)}\")\n",
    "        \n",
    "        # Make sure batch is in the expected format (list with 3 elements)\n",
    "        if not isinstance(batch, list) or len(batch) != 3:\n",
    "            print(f\"❌ Unexpected batch format: {type(batch)} with {len(batch) if hasattr(batch, '__len__') else 'unknown'} elements\")\n",
    "            return\n",
    "            \n",
    "        # Unpack the batch\n",
    "        ids, imgs, labels = batch\n",
    "        print(f\"✅ Successfully unpacked batch with {len(imgs)} images\")\n",
    "        \n",
    "        # Create figure\n",
    "        plt.figure(figsize=figsize)\n",
    "        \n",
    "        # Display images\n",
    "        for i in range(min(num_samples, len(imgs))):\n",
    "            img = imgs[i]\n",
    "            label = labels[i].item()\n",
    "            id_ = ids[i].item()\n",
    "            \n",
    "            plt.subplot(1, num_samples, i+1)\n",
    "            plt.imshow(img.permute(1, 2, 0))  # Convert from [3,32,32] to [32,32,3]\n",
    "            plt.title(f\"Class: {label}\")\n",
    "            plt.axis('off')\n",
    "        \n",
    "        plt.suptitle(title)\n",
    "        plt.tight_layout()\n",
    "        plt.show()\n",
    "        \n",
    "        # Print info about first image\n",
    "        print(f\"First image details:\")\n",
    "        print(f\"  ID: {ids[0].item()}\")\n",
    "        print(f\"  Shape: {imgs[0].shape}\")\n",
    "        print(f\"  Label: {labels[0].item()}\")\n",
    "        print(f\"  Pixel range: [{imgs[0].min().item():.4f}, {imgs[0].max().item():.4f}]\")\n",
    "        \n",
    "    except Exception as e:\n",
    "        print(f\"❌ Error visualizing loader: {e}\")\n",
    "        import traceback\n",
    "        traceback.print_exc()"
   ]
  },
  {
   "cell_type": "code",
   "execution_count": 5,
   "id": "4251fcb8",
   "metadata": {},
   "outputs": [
    {
     "name": "stdout",
     "output_type": "stream",
     "text": [
      "Batch type: <class 'list'>\n",
      "✅ Successfully unpacked batch with 128 images\n"
     ]
    },
    {
     "data": {
      "image/png": "[encoded data removed]",
      "text/plain": [
       "<Figure size 1500x300 with 8 Axes>"
      ]
     },
     "metadata": {},
     "output_type": "display_data"
    },
    {
     "name": "stdout",
     "output_type": "stream",
     "text": [
      "First image details:\n",
      "  ID: 84239\n",
      "  Shape: torch.Size([3, 32, 32])\n",
      "  Label: 8\n",
      "  Pixel range: [0.0000, 0.3804]\n"
     ]
    }
   ],
   "source": [
    "visualize_loader(train_loader, num_samples=8, title=\"Training Data Samples\")\n"
   ]
  },
  {
   "cell_type": "code",
   "execution_count": 6,
   "id": "37d38a1b",
   "metadata": {},
   "outputs": [
    {
     "name": "stdout",
     "output_type": "stream",
     "text": [
      "Batch type: <class 'list'>\n",
      "✅ Successfully unpacked batch with 128 images\n"
     ]
    },
    {
     "data": {
      "image/png": "[encoded data removed]",
      "text/plain": [
       "<Figure size 1500x300 with 8 Axes>"
      ]
     },
     "metadata": {},
     "output_type": "display_data"
    },
    {
     "name": "stdout",
     "output_type": "stream",
     "text": [
      "First image details:\n",
      "  ID: 46506\n",
      "  Shape: torch.Size([3, 32, 32])\n",
      "  Label: 8\n",
      "  Pixel range: [0.0000, 0.4392]\n"
     ]
    }
   ],
   "source": [
    "visualize_loader(test_loader, num_samples=8, title=\"Test Data Samples\")"
   ]
  },
  {
   "cell_type": "code",
   "execution_count": 7,
   "id": "cc1330b9",
   "metadata": {},
   "outputs": [],
   "source": [
    "# Define model and training configuration with adversarial parameters\n",
    "class Config:\n",
    "    MODEL_NAME = \"resnet34\"  # Using ResNet34 as requested\n",
    "    NUM_CLASSES = 10\n",
    "    EPOCHS = 30\n",
    "    BATCH_SIZE = 128\n",
    "    LEARNING_RATE = 0.01\n",
    "    MOMENTUM = 0.9\n",
    "    WEIGHT_DECAY = 5e-5  # Already reduced\n",
    "    \n",
    "    # Adversarial training parameters with increased focus on robustness\n",
    "    EPSILON = 8/255.0       # Perturbation size\n",
    "    ALPHA = 1/255.0         # Step size for attacks\n",
    "    PGD_STEPS = 10          # PGD steps for evaluation\n",
    "    PGD_STEPS_TRAIN = 3     # PGD steps during training (fewer for speed)\n",
    "    PGD_STEPS_FINAL = 5     # Final number of PGD steps (for step annealing)\n",
    "    RANDOM_START = True     # Random initialization for PGD\n",
    "    ADV_TRAIN_RATIO = 0.4   # Increased from 0.2 to 0.4\n",
    "    \n",
    "    CHECKPOINT_PATH = os.path.join(current_dir, \"checkpoints/adv_model_checkpoint.pt\")\n",
    "    FINAL_MODEL_PATH = os.path.join(current_dir, \"out/models/final_high_acc_model.pt\")\n",
    "\n",
    "config = Config()"
   ]
  },
  {
   "cell_type": "code",
   "execution_count": 8,
   "id": "f6a48c90",
   "metadata": {},
   "outputs": [
    {
     "name": "stderr",
     "output_type": "stream",
     "text": [
      "/local/paisdb/miniconda3/envs/paisdb/lib/python3.10/site-packages/torchvision/models/_utils.py:208: UserWarning: The parameter 'pretrained' is deprecated since 0.13 and may be removed in the future, please use 'weights' instead.\n",
      "  warnings.warn(\n",
      "/local/paisdb/miniconda3/envs/paisdb/lib/python3.10/site-packages/torchvision/models/_utils.py:223: UserWarning: Arguments other than a weight enum or `None` for 'weights' are deprecated since 0.13 and may be removed in the future. The current behavior is equivalent to passing `weights=None`.\n",
      "  warnings.warn(msg)\n"
     ]
    }
   ],
   "source": [
    "def create_model():\n",
    "    \n",
    "    model = models.resnet34(pretrained=False)\n",
    "    \n",
    "    # Modify the final fully connected layer for our 10 classes\n",
    "    model.fc = nn.Linear(model.fc.in_features, config.NUM_CLASSES)\n",
    "\n",
    "    config.WEIGHT_DECAY = 5e-5  # Reduced from 1e-4\n",
    "    \n",
    "    # Move model to device\n",
    "    model = model.to(device)\n",
    "\n",
    "    \n",
    "    # Define loss function, optimizer and scheduler\n",
    "    criterion = nn.CrossEntropyLoss()\n",
    "    optimizer = optim.SGD(\n",
    "        model.parameters(), \n",
    "        lr=config.LEARNING_RATE,\n",
    "        # momentum=config.MOMENTUM,\n",
    "        weight_decay=config.WEIGHT_DECAY\n",
    "    )\n",
    "    \n",
    "    # LR scheduler\n",
    "    scheduler = optim.lr_scheduler.ReduceLROnPlateau(\n",
    "        optimizer, \n",
    "        mode='max',\n",
    "        factor=0.5,\n",
    "        patience=5\n",
    "    )\n",
    "    \n",
    "    return model, criterion, optimizer, scheduler\n",
    "\n",
    "# Create model\n",
    "model, criterion, optimizer, scheduler = create_model()"
   ]
  },
  {
   "cell_type": "code",
   "execution_count": 9,
   "id": "dbc6a954",
   "metadata": {},
   "outputs": [],
   "source": [
    "# PGD Attack implementation\n",
    "def pgd_attack(model, data, target, epsilon, alpha, num_steps, criterion, random_start=True):\n",
    "    \"\"\"\n",
    "    Projected Gradient Descent Attack\n",
    "    \n",
    "    Args:\n",
    "        model: The model to attack\n",
    "        data: Input data\n",
    "        target: True labels\n",
    "        epsilon: Maximum perturbation size\n",
    "        alpha: Step size\n",
    "        num_steps: Number of attack steps\n",
    "        criterion: Loss function\n",
    "        random_start: Whether to start with random perturbation\n",
    "    \"\"\"\n",
    "    # Set model to eval mode during attack generation\n",
    "    model.eval()\n",
    "    \n",
    "    # Clone data to avoid modifying original\n",
    "    perturbed_data = data.clone().detach()\n",
    "    \n",
    "    # Add random noise if specified\n",
    "    if random_start:\n",
    "        perturbed_data = perturbed_data + torch.zeros_like(perturbed_data).uniform_(-epsilon, epsilon)\n",
    "        perturbed_data = torch.clamp(perturbed_data, 0, 1)  # Ensure valid image range\n",
    "    \n",
    "    # Perform attack steps\n",
    "    for step in range(num_steps):\n",
    "        perturbed_data.requires_grad = True\n",
    "        \n",
    "        # Forward pass\n",
    "        outputs = model(perturbed_data)\n",
    "        model.zero_grad()\n",
    "        \n",
    "        # Calculate loss\n",
    "        cost = criterion(outputs, target)\n",
    "        \n",
    "        # Backward pass\n",
    "        cost.backward()\n",
    "        \n",
    "        # Create adversarial example with gradient sign\n",
    "        adv_examples = perturbed_data + alpha * perturbed_data.grad.sign()\n",
    "        \n",
    "        # Project back to epsilon ball\n",
    "        eta = torch.clamp(adv_examples - data, -epsilon, epsilon)\n",
    "        perturbed_data = torch.clamp(data + eta, 0, 1).detach()\n",
    "    \n",
    "    # Set model back to original mode\n",
    "    model.train()\n",
    "    \n",
    "    return perturbed_data"
   ]
  },
  {
   "cell_type": "code",
   "execution_count": 10,
   "id": "5c42e2f5",
   "metadata": {},
   "outputs": [],
   "source": [
    "def train_epoch(model, train_loader, criterion, optimizer, current_epoch=0):\n",
    "    model.train()\n",
    "    running_loss = 0.0\n",
    "    correct_clean = 0\n",
    "    correct_adv = 0\n",
    "    total = 0\n",
    "    \n",
    "    progress_bar = tqdm(train_loader, desc=\"Training\")\n",
    "    \n",
    "    # Calculate current PGD steps based on epoch for step annealing\n",
    "    current_pgd_steps = min(\n",
    "        config.PGD_STEPS_TRAIN + int((config.PGD_STEPS_FINAL - config.PGD_STEPS_TRAIN) * current_epoch / config.EPOCHS), \n",
    "        config.PGD_STEPS_FINAL\n",
    "    )\n",
    "    \n",
    "    for batch_idx, batch in enumerate(progress_bar):\n",
    "        # Unpack (id, img, label) tuple\n",
    "        ids, inputs, targets = batch\n",
    "        inputs, targets = inputs.to(device), targets.to(device)\n",
    "        \n",
    "        # For some batches, only train on clean examples (less frequently now)\n",
    "        if batch_idx % 6 == 0:  # Every 6th batch is fully clean (was 4)\n",
    "            # Zero gradients\n",
    "            optimizer.zero_grad()\n",
    "            \n",
    "            # Forward pass for clean examples only\n",
    "            outputs_clean = model(inputs)\n",
    "            loss = criterion(outputs_clean, targets)\n",
    "            \n",
    "            # Backward pass and optimize\n",
    "            loss.backward()\n",
    "            optimizer.step()\n",
    "            \n",
    "            # Track clean accuracy only\n",
    "            _, predicted_clean = outputs_clean.max(1)\n",
    "            correct_clean += predicted_clean.eq(targets).sum().item()\n",
    "            total += targets.size(0)\n",
    "            running_loss += loss.item()\n",
    "        else:\n",
    "            # Generate adversarial examples\n",
    "            adv_inputs = pgd_attack(\n",
    "                model, inputs, targets, \n",
    "                config.EPSILON, config.ALPHA, current_pgd_steps,  # Use dynamic steps \n",
    "                criterion, random_start=config.RANDOM_START\n",
    "            )\n",
    "            \n",
    "            # Zero gradients\n",
    "            optimizer.zero_grad()\n",
    "            \n",
    "            # Forward pass for clean examples\n",
    "            outputs_clean = model(inputs)\n",
    "            loss_clean = criterion(outputs_clean, targets)\n",
    "            \n",
    "            # Forward pass for adversarial examples\n",
    "            outputs_adv = model(adv_inputs)\n",
    "            loss_adv = criterion(outputs_adv, targets)\n",
    "            \n",
    "            # Combined loss with more weight on adversarial examples\n",
    "            loss = (1 - config.ADV_TRAIN_RATIO) * loss_clean + config.ADV_TRAIN_RATIO * loss_adv\n",
    "            \n",
    "            # Backward pass and optimize\n",
    "            loss.backward()\n",
    "            optimizer.step()\n",
    "            \n",
    "            # Track statistics\n",
    "            running_loss += loss.item()\n",
    "            \n",
    "            # Track clean accuracy\n",
    "            _, predicted_clean = outputs_clean.max(1)\n",
    "            correct_clean += predicted_clean.eq(targets).sum().item()\n",
    "            \n",
    "            # Track adversarial accuracy\n",
    "            _, predicted_adv = outputs_adv.max(1)\n",
    "            correct_adv += predicted_adv.eq(targets).sum().item()\n",
    "            \n",
    "            total += targets.size(0)\n",
    "        \n",
    "        # Update progress bar\n",
    "        progress_bar.set_postfix({\n",
    "            'Loss': f\"{running_loss/(batch_idx+1):.4f}\",\n",
    "            'Clean': f\"{100.*correct_clean/total:.2f}%\",\n",
    "            'Adv': f\"{100.*correct_adv/total:.2f}%\"\n",
    "        })\n",
    "    \n",
    "    clean_acc = 100. * correct_clean / total\n",
    "    adv_acc = 100. * correct_adv / total\n",
    "    \n",
    "    return running_loss/len(train_loader), clean_acc, adv_acc"
   ]
  },
  {
   "cell_type": "code",
   "execution_count": 11,
   "id": "2353eeee",
   "metadata": {},
   "outputs": [],
   "source": [
    "def validate(model, val_loader, criterion):\n",
    "    \"\"\"Evaluate model on clean, PGD, and FGSM adversarial examples\"\"\"\n",
    "    model.eval()\n",
    "    running_loss = 0.0\n",
    "    correct_clean = 0\n",
    "    correct_pgd = 0\n",
    "    correct_fgsm = 0\n",
    "    total = 0\n",
    "    \n",
    "    with torch.no_grad():\n",
    "        for batch in val_loader:\n",
    "            # Unpack (id, img, label) tuple\n",
    "            ids, inputs, targets = batch\n",
    "            inputs, targets = inputs.to(device), targets.to(device)\n",
    "            \n",
    "            # Clean accuracy\n",
    "            outputs_clean = model(inputs)\n",
    "            loss = criterion(outputs_clean, targets)\n",
    "            running_loss += loss.item()\n",
    "            \n",
    "            _, predicted_clean = outputs_clean.max(1)\n",
    "            correct_clean += predicted_clean.eq(targets).sum().item()\n",
    "            \n",
    "            # For adversarial examples, we need gradients\n",
    "            with torch.enable_grad():\n",
    "                # Standard PGD attack\n",
    "                pgd_inputs = pgd_attack(\n",
    "                    model, inputs, targets, \n",
    "                    config.EPSILON, config.ALPHA, config.PGD_STEPS, \n",
    "                    criterion, random_start=config.RANDOM_START\n",
    "                )\n",
    "                \n",
    "                # FGSM attack (using PGD with single step)\n",
    "                fgsm_inputs = pgd_attack(\n",
    "                    model, inputs, targets,\n",
    "                    epsilon=config.EPSILON,\n",
    "                    alpha=config.EPSILON,    # Full step size\n",
    "                    num_steps=1,             # Single step\n",
    "                    criterion=criterion,\n",
    "                    random_start=False       # No random start\n",
    "                )\n",
    "            \n",
    "            # Evaluate on adversarial examples\n",
    "            with torch.no_grad():\n",
    "                # Evaluate PGD examples\n",
    "                outputs_pgd = model(pgd_inputs)\n",
    "                _, predicted_pgd = outputs_pgd.max(1)\n",
    "                correct_pgd += predicted_pgd.eq(targets).sum().item()\n",
    "                \n",
    "                # Evaluate FGSM examples\n",
    "                outputs_fgsm = model(fgsm_inputs)\n",
    "                _, predicted_fgsm = outputs_fgsm.max(1)\n",
    "                correct_fgsm += predicted_fgsm.eq(targets).sum().item()\n",
    "            \n",
    "            total += targets.size(0)\n",
    "    \n",
    "    val_loss = running_loss / len(val_loader)\n",
    "    clean_acc = 100. * correct_clean / total\n",
    "    pgd_acc = 100. * correct_pgd / total\n",
    "    fgsm_acc = 100. * correct_fgsm / total\n",
    "    \n",
    "    print(f\"Validation - Loss: {val_loss:.4f}\")\n",
    "    print(f\"Clean Accuracy: {clean_acc:.2f}%, PGD: {pgd_acc:.2f}%, FGSM: {fgsm_acc:.2f}%\")\n",
    "    \n",
    "    return val_loss, clean_acc, pgd_acc, fgsm_acc"
   ]
  },
  {
   "cell_type": "code",
   "execution_count": 12,
   "id": "2acbacaa",
   "metadata": {},
   "outputs": [],
   "source": [
    "def train_model(model, train_loader, val_loader, criterion, optimizer, scheduler, epochs=30):\n",
    "    \"\"\"Complete training loop with balanced adversarial training\"\"\"\n",
    "    best_clean_acc = 0.0\n",
    "    best_pgd_acc = 0.0\n",
    "    best_fgsm_acc = 0.0\n",
    "    best_weighted_acc = 0.0\n",
    "    \n",
    "    # For tracking metrics\n",
    "    train_losses = []\n",
    "    clean_accs = []\n",
    "    pgd_accs = []\n",
    "    fgsm_accs = []\n",
    "    \n",
    "    print(f\"Starting adversarial training for {epochs} epochs...\")\n",
    "    \n",
    "    for epoch in range(epochs):\n",
    "        print(f\"\\nEpoch {epoch+1}/{epochs}\")\n",
    "        \n",
    "        # Train for one epoch with adversarial examples\n",
    "        train_loss, train_clean_acc, train_adv_acc = train_epoch(\n",
    "            model, train_loader, criterion, optimizer, current_epoch=epoch\n",
    "        )\n",
    "        \n",
    "        # Track training metrics\n",
    "        train_losses.append(train_loss)\n",
    "        \n",
    "        # Evaluate on validation set\n",
    "        val_loss, val_clean_acc, val_pgd_acc, val_fgsm_acc = validate(\n",
    "            model, val_loader, criterion\n",
    "        )\n",
    "        \n",
    "        # Store validation metrics\n",
    "        clean_accs.append(val_clean_acc)\n",
    "        pgd_accs.append(val_pgd_acc)\n",
    "        fgsm_accs.append(val_fgsm_acc)\n",
    "        \n",
    "        # Calculate weighted accuracy - now more balanced between clean and adversarial\n",
    "        current_weighted_acc = 0.6 * val_clean_acc + 0.4 * val_pgd_acc\n",
    "        \n",
    "        # Update learning rate based on weighted accuracy\n",
    "        if scheduler is not None:\n",
    "            scheduler.step(current_weighted_acc)\n",
    "        \n",
    "        # Track best performance\n",
    "        if val_clean_acc > best_clean_acc:\n",
    "            best_clean_acc = val_clean_acc\n",
    "            print(f\"✅ New best clean accuracy: {best_clean_acc:.2f}%\")\n",
    "            \n",
    "        if val_pgd_acc > best_pgd_acc:\n",
    "            best_pgd_acc = val_pgd_acc\n",
    "            print(f\"✅ New best PGD accuracy: {best_pgd_acc:.2f}%\")\n",
    "            \n",
    "        if val_fgsm_acc > best_fgsm_acc:\n",
    "            best_fgsm_acc = val_fgsm_acc\n",
    "            print(f\"✅ New best FGSM accuracy: {best_fgsm_acc:.2f}%\")\n",
    "            \n",
    "        if current_weighted_acc > best_weighted_acc:\n",
    "            best_weighted_acc = current_weighted_acc\n",
    "            print(f\"✅ New best weighted accuracy: {best_weighted_acc:.2f}%\")\n",
    "        \n",
    "        early_stop_patience = 7\n",
    "        no_improve_epochs = 0     \n",
    "        \n",
    "        # Save checkpoint if weighted accuracy improved\n",
    "        if current_weighted_acc > best_weighted_acc:\n",
    "            print(f\"✅ Weighted accuracy improved to {current_weighted_acc:.2f}%\")\n",
    "            print(f\"   Clean: {val_clean_acc:.2f}%, PGD: {val_pgd_acc:.2f}%, FGSM: {val_fgsm_acc:.2f}%\")\n",
    "            best_weighted_acc = current_weighted_acc\n",
    "            no_improve_epochs = 0\n",
    "            \n",
    "            # Save checkpoint with all metrics\n",
    "            torch.save({\n",
    "                'epoch': epoch + 1,\n",
    "                'model_state_dict': model.state_dict(),\n",
    "                'optimizer_state_dict': optimizer.state_dict(),\n",
    "                'scheduler_state_dict': scheduler.state_dict() if hasattr(scheduler, 'state_dict') else None,\n",
    "                'best_clean_acc': best_clean_acc,\n",
    "                'best_pgd_acc': best_pgd_acc,\n",
    "                'best_fgsm_acc': best_fgsm_acc,\n",
    "                'best_weighted_acc': best_weighted_acc,\n",
    "                'current_clean_acc': val_clean_acc,\n",
    "                'current_pgd_acc': val_pgd_acc,\n",
    "                'current_fgsm_acc': val_fgsm_acc,\n",
    "            }, config.CHECKPOINT_PATH)\n",
    "            \n",
    "            print(f\"Saved checkpoint to {config.CHECKPOINT_PATH}\")\n",
    "            \n",
    "            # Also save the model state dict for final submission\n",
    "            torch.save(model.state_dict(), config.FINAL_MODEL_PATH)\n",
    "            print(f\"Saved model state dict to {config.FINAL_MODEL_PATH}\")\n",
    "        else:\n",
    "            no_improve_epochs += 1\n",
    "            print(f\"No improvement in weighted accuracy for {no_improve_epochs} epochs\")\n",
    "        \n",
    "        if no_improve_epochs >= early_stop_patience:\n",
    "            print(f\"Weighted accuracy hasn't improved for {early_stop_patience} epochs. Early stopping.\")\n",
    "            break\n",
    "    \n",
    "    # Plot training progress\n",
    "    plt.figure(figsize=(15, 5))\n",
    "    \n",
    "    plt.subplot(1, 2, 1)\n",
    "    plt.plot(train_losses, label='Training Loss')\n",
    "    plt.title('Training Loss over Epochs')\n",
    "    plt.xlabel('Epoch')\n",
    "    plt.ylabel('Loss')\n",
    "    plt.legend()\n",
    "    \n",
    "    plt.subplot(1, 2, 2)\n",
    "    plt.plot(clean_accs, label='Clean Accuracy')\n",
    "    plt.plot(pgd_accs, label='PGD Accuracy')\n",
    "    plt.plot(fgsm_accs, label='FGSM Accuracy')\n",
    "    plt.title('Validation Accuracy over Epochs')\n",
    "    plt.xlabel('Epoch')\n",
    "    plt.ylabel('Accuracy (%)')\n",
    "    plt.legend()\n",
    "    \n",
    "    plt.tight_layout()\n",
    "    plt.savefig('adversarial_training_progress.png')\n",
    "    plt.show()\n",
    "    \n",
    "    print(f\"Training completed.\")\n",
    "    print(f\"Best clean accuracy: {best_clean_acc:.2f}%\")\n",
    "    print(f\"Best PGD accuracy: {best_pgd_acc:.2f}%\")\n",
    "    print(f\"Best FGSM accuracy: {best_fgsm_acc:.2f}%\")\n",
    "    print(f\"Best weighted accuracy: {best_weighted_acc:.2f}%\")\n",
    "    \n",
    "    return best_weighted_acc, best_clean_acc, best_pgd_acc, best_fgsm_acc"
   ]
  },
  {
   "cell_type": "code",
   "execution_count": 13,
   "id": "79be36c8",
   "metadata": {},
   "outputs": [
    {
     "name": "stdout",
     "output_type": "stream",
     "text": [
      "Starting adversarial training with 30 epochs...\n",
      "Starting adversarial training for 30 epochs...\n",
      "\n",
      "Epoch 1/30\n"
     ]
    },
    {
     "name": "stderr",
     "output_type": "stream",
     "text": [
      "Training: 100%|██████████| 547/547 [00:51<00:00, 10.66it/s, Loss=1.7052, Clean=41.24%, Adv=23.88%]\n"
     ]
    },
    {
     "name": "stdout",
     "output_type": "stream",
     "text": [
      "Validation - Loss: 1.5339\n",
      "Clean Accuracy: 43.51%, PGD: 17.43%, FGSM: 23.01%\n",
      "✅ New best clean accuracy: 43.51%\n",
      "✅ New best PGD accuracy: 17.43%\n",
      "✅ New best FGSM accuracy: 23.01%\n",
      "✅ New best weighted accuracy: 33.08%\n",
      "No improvement in weighted accuracy for 1 epochs\n",
      "\n",
      "Epoch 2/30\n"
     ]
    },
    {
     "name": "stderr",
     "output_type": "stream",
     "text": [
      "Training: 100%|██████████| 547/547 [00:45<00:00, 12.13it/s, Loss=1.5920, Clean=43.89%, Adv=27.60%]\n"
     ]
    },
    {
     "name": "stdout",
     "output_type": "stream",
     "text": [
      "Validation - Loss: 1.4941\n",
      "Clean Accuracy: 44.65%, PGD: 18.48%, FGSM: 22.41%\n",
      "✅ New best clean accuracy: 44.65%\n",
      "✅ New best PGD accuracy: 18.48%\n",
      "✅ New best weighted accuracy: 34.18%\n",
      "No improvement in weighted accuracy for 1 epochs\n",
      "\n",
      "Epoch 3/30\n"
     ]
    },
    {
     "name": "stderr",
     "output_type": "stream",
     "text": [
      "Training: 100%|██████████| 547/547 [00:36<00:00, 15.05it/s, Loss=1.5593, Clean=44.88%, Adv=29.13%]\n"
     ]
    },
    {
     "name": "stdout",
     "output_type": "stream",
     "text": [
      "Validation - Loss: 1.4687\n",
      "Clean Accuracy: 45.21%, PGD: 20.36%, FGSM: 23.66%\n",
      "✅ New best clean accuracy: 45.21%\n",
      "✅ New best PGD accuracy: 20.36%\n",
      "✅ New best FGSM accuracy: 23.66%\n",
      "✅ New best weighted accuracy: 35.27%\n",
      "No improvement in weighted accuracy for 1 epochs\n",
      "\n",
      "Epoch 4/30\n"
     ]
    },
    {
     "name": "stderr",
     "output_type": "stream",
     "text": [
      "Training: 100%|██████████| 547/547 [00:36<00:00, 15.11it/s, Loss=1.5363, Clean=45.60%, Adv=29.67%]\n"
     ]
    },
    {
     "name": "stdout",
     "output_type": "stream",
     "text": [
      "Validation - Loss: 1.4422\n",
      "Clean Accuracy: 46.54%, PGD: 19.73%, FGSM: 22.58%\n",
      "✅ New best clean accuracy: 46.54%\n",
      "✅ New best weighted accuracy: 35.82%\n",
      "No improvement in weighted accuracy for 1 epochs\n",
      "\n",
      "Epoch 5/30\n"
     ]
    },
    {
     "name": "stderr",
     "output_type": "stream",
     "text": [
      "Training: 100%|██████████| 547/547 [00:40<00:00, 13.66it/s, Loss=1.5189, Clean=46.42%, Adv=29.91%]\n"
     ]
    },
    {
     "name": "stdout",
     "output_type": "stream",
     "text": [
      "Validation - Loss: 1.4237\n",
      "Clean Accuracy: 47.05%, PGD: 18.21%, FGSM: 21.18%\n",
      "✅ New best clean accuracy: 47.05%\n",
      "No improvement in weighted accuracy for 1 epochs\n",
      "\n",
      "Epoch 6/30\n"
     ]
    },
    {
     "name": "stderr",
     "output_type": "stream",
     "text": [
      "Training: 100%|██████████| 547/547 [00:33<00:00, 16.42it/s, Loss=1.5029, Clean=47.05%, Adv=30.39%]\n"
     ]
    },
    {
     "name": "stdout",
     "output_type": "stream",
     "text": [
      "Validation - Loss: 1.4040\n",
      "Clean Accuracy: 47.86%, PGD: 21.14%, FGSM: 24.18%\n",
      "✅ New best clean accuracy: 47.86%\n",
      "✅ New best PGD accuracy: 21.14%\n",
      "✅ New best FGSM accuracy: 24.18%\n",
      "✅ New best weighted accuracy: 37.17%\n",
      "No improvement in weighted accuracy for 1 epochs\n",
      "\n",
      "Epoch 7/30\n"
     ]
    },
    {
     "name": "stderr",
     "output_type": "stream",
     "text": [
      "Training: 100%|██████████| 547/547 [00:40<00:00, 13.63it/s, Loss=1.4922, Clean=47.53%, Adv=30.60%]\n"
     ]
    },
    {
     "name": "stdout",
     "output_type": "stream",
     "text": [
      "Validation - Loss: 1.4093\n",
      "Clean Accuracy: 46.82%, PGD: 20.62%, FGSM: 22.84%\n",
      "No improvement in weighted accuracy for 1 epochs\n",
      "\n",
      "Epoch 8/30\n"
     ]
    },
    {
     "name": "stderr",
     "output_type": "stream",
     "text": [
      "Training: 100%|██████████| 547/547 [00:49<00:00, 10.98it/s, Loss=1.4826, Clean=47.84%, Adv=31.02%]\n"
     ]
    },
    {
     "name": "stdout",
     "output_type": "stream",
     "text": [
      "Validation - Loss: 1.3879\n",
      "Clean Accuracy: 47.83%, PGD: 22.21%, FGSM: 25.23%\n",
      "✅ New best PGD accuracy: 22.21%\n",
      "✅ New best FGSM accuracy: 25.23%\n",
      "✅ New best weighted accuracy: 37.58%\n",
      "No improvement in weighted accuracy for 1 epochs\n",
      "\n",
      "Epoch 9/30\n"
     ]
    },
    {
     "name": "stderr",
     "output_type": "stream",
     "text": [
      "Training: 100%|██████████| 547/547 [00:57<00:00,  9.55it/s, Loss=1.4726, Clean=48.14%, Adv=31.16%]\n"
     ]
    },
    {
     "name": "stdout",
     "output_type": "stream",
     "text": [
      "Validation - Loss: 1.3710\n",
      "Clean Accuracy: 48.33%, PGD: 22.21%, FGSM: 24.56%\n",
      "✅ New best clean accuracy: 48.33%\n",
      "✅ New best PGD accuracy: 22.21%\n",
      "✅ New best weighted accuracy: 37.89%\n",
      "No improvement in weighted accuracy for 1 epochs\n",
      "\n",
      "Epoch 10/30\n"
     ]
    },
    {
     "name": "stderr",
     "output_type": "stream",
     "text": [
      "Training: 100%|██████████| 547/547 [00:54<00:00, 10.12it/s, Loss=1.4671, Clean=48.40%, Adv=31.38%]\n"
     ]
    },
    {
     "name": "stdout",
     "output_type": "stream",
     "text": [
      "Validation - Loss: 1.3598\n",
      "Clean Accuracy: 49.15%, PGD: 21.47%, FGSM: 24.24%\n",
      "✅ New best clean accuracy: 49.15%\n",
      "✅ New best weighted accuracy: 38.07%\n",
      "No improvement in weighted accuracy for 1 epochs\n",
      "\n",
      "Epoch 11/30\n"
     ]
    },
    {
     "name": "stderr",
     "output_type": "stream",
     "text": [
      "Training: 100%|██████████| 547/547 [00:49<00:00, 11.07it/s, Loss=1.4574, Clean=48.99%, Adv=31.28%]\n"
     ]
    },
    {
     "name": "stdout",
     "output_type": "stream",
     "text": [
      "Validation - Loss: 1.3682\n",
      "Clean Accuracy: 48.39%, PGD: 20.51%, FGSM: 23.63%\n",
      "No improvement in weighted accuracy for 1 epochs\n",
      "\n",
      "Epoch 12/30\n"
     ]
    },
    {
     "name": "stderr",
     "output_type": "stream",
     "text": [
      "Training: 100%|██████████| 547/547 [00:46<00:00, 11.67it/s, Loss=1.4549, Clean=48.99%, Adv=31.45%]\n"
     ]
    },
    {
     "name": "stdout",
     "output_type": "stream",
     "text": [
      "Validation - Loss: 1.3561\n",
      "Clean Accuracy: 49.37%, PGD: 19.49%, FGSM: 22.65%\n",
      "✅ New best clean accuracy: 49.37%\n",
      "No improvement in weighted accuracy for 1 epochs\n",
      "\n",
      "Epoch 13/30\n"
     ]
    },
    {
     "name": "stderr",
     "output_type": "stream",
     "text": [
      "Training: 100%|██████████| 547/547 [00:49<00:00, 11.06it/s, Loss=1.4475, Clean=49.19%, Adv=31.56%]\n"
     ]
    },
    {
     "name": "stdout",
     "output_type": "stream",
     "text": [
      "Validation - Loss: 1.3494\n",
      "Clean Accuracy: 49.67%, PGD: 20.04%, FGSM: 23.25%\n",
      "✅ New best clean accuracy: 49.67%\n",
      "No improvement in weighted accuracy for 1 epochs\n",
      "\n",
      "Epoch 14/30\n"
     ]
    },
    {
     "name": "stderr",
     "output_type": "stream",
     "text": [
      "Training: 100%|██████████| 547/547 [00:50<00:00, 10.84it/s, Loss=1.4411, Clean=49.67%, Adv=31.56%]\n"
     ]
    },
    {
     "name": "stdout",
     "output_type": "stream",
     "text": [
      "Validation - Loss: 1.3533\n",
      "Clean Accuracy: 49.03%, PGD: 21.87%, FGSM: 25.01%\n",
      "✅ New best weighted accuracy: 38.16%\n",
      "No improvement in weighted accuracy for 1 epochs\n",
      "\n",
      "Epoch 15/30\n"
     ]
    },
    {
     "name": "stderr",
     "output_type": "stream",
     "text": [
      "Training: 100%|██████████| 547/547 [00:55<00:00,  9.91it/s, Loss=1.4365, Clean=50.04%, Adv=31.74%]\n"
     ]
    },
    {
     "name": "stdout",
     "output_type": "stream",
     "text": [
      "Validation - Loss: 1.3552\n",
      "Clean Accuracy: 49.21%, PGD: 20.86%, FGSM: 23.50%\n",
      "No improvement in weighted accuracy for 1 epochs\n",
      "\n",
      "Epoch 16/30\n"
     ]
    },
    {
     "name": "stderr",
     "output_type": "stream",
     "text": [
      "Training: 100%|██████████| 547/547 [00:56<00:00,  9.74it/s, Loss=1.4637, Clean=49.58%, Adv=29.48%]\n"
     ]
    },
    {
     "name": "stdout",
     "output_type": "stream",
     "text": [
      "Validation - Loss: 1.3452\n",
      "Clean Accuracy: 49.64%, PGD: 21.70%, FGSM: 23.63%\n",
      "✅ New best weighted accuracy: 38.46%\n",
      "No improvement in weighted accuracy for 1 epochs\n",
      "\n",
      "Epoch 17/30\n"
     ]
    },
    {
     "name": "stderr",
     "output_type": "stream",
     "text": [
      "Training: 100%|██████████| 547/547 [01:00<00:00,  9.00it/s, Loss=1.4569, Clean=49.77%, Adv=29.83%]\n"
     ]
    },
    {
     "name": "stdout",
     "output_type": "stream",
     "text": [
      "Validation - Loss: 1.3561\n",
      "Clean Accuracy: 48.74%, PGD: 24.87%, FGSM: 27.40%\n",
      "✅ New best PGD accuracy: 24.87%\n",
      "✅ New best FGSM accuracy: 27.40%\n",
      "✅ New best weighted accuracy: 39.19%\n",
      "No improvement in weighted accuracy for 1 epochs\n",
      "\n",
      "Epoch 18/30\n"
     ]
    },
    {
     "name": "stderr",
     "output_type": "stream",
     "text": [
      "Training: 100%|██████████| 547/547 [00:39<00:00, 13.70it/s, Loss=1.4512, Clean=49.78%, Adv=30.38%]\n"
     ]
    },
    {
     "name": "stdout",
     "output_type": "stream",
     "text": [
      "Validation - Loss: 1.3373\n",
      "Clean Accuracy: 50.23%, PGD: 21.83%, FGSM: 24.96%\n",
      "✅ New best clean accuracy: 50.23%\n",
      "No improvement in weighted accuracy for 1 epochs\n",
      "\n",
      "Epoch 19/30\n"
     ]
    },
    {
     "name": "stderr",
     "output_type": "stream",
     "text": [
      "Training: 100%|██████████| 547/547 [00:46<00:00, 11.65it/s, Loss=1.4464, Clean=50.15%, Adv=30.02%]\n"
     ]
    },
    {
     "name": "stdout",
     "output_type": "stream",
     "text": [
      "Validation - Loss: 1.3440\n",
      "Clean Accuracy: 49.13%, PGD: 24.95%, FGSM: 27.51%\n",
      "✅ New best PGD accuracy: 24.95%\n",
      "✅ New best FGSM accuracy: 27.51%\n",
      "✅ New best weighted accuracy: 39.46%\n",
      "No improvement in weighted accuracy for 1 epochs\n",
      "\n",
      "Epoch 20/30\n"
     ]
    },
    {
     "name": "stderr",
     "output_type": "stream",
     "text": [
      "Training: 100%|██████████| 547/547 [00:47<00:00, 11.59it/s, Loss=1.4436, Clean=50.37%, Adv=30.31%]\n"
     ]
    },
    {
     "name": "stdout",
     "output_type": "stream",
     "text": [
      "Validation - Loss: 1.3298\n",
      "Clean Accuracy: 49.87%, PGD: 25.95%, FGSM: 28.49%\n",
      "✅ New best PGD accuracy: 25.95%\n",
      "✅ New best FGSM accuracy: 28.49%\n",
      "✅ New best weighted accuracy: 40.30%\n",
      "No improvement in weighted accuracy for 1 epochs\n",
      "\n",
      "Epoch 21/30\n"
     ]
    },
    {
     "name": "stderr",
     "output_type": "stream",
     "text": [
      "Training: 100%|██████████| 547/547 [00:39<00:00, 13.75it/s, Loss=1.4358, Clean=50.49%, Adv=30.34%]\n"
     ]
    },
    {
     "name": "stdout",
     "output_type": "stream",
     "text": [
      "Validation - Loss: 1.3188\n",
      "Clean Accuracy: 50.95%, PGD: 24.51%, FGSM: 28.11%\n",
      "✅ New best clean accuracy: 50.95%\n",
      "✅ New best weighted accuracy: 40.37%\n",
      "No improvement in weighted accuracy for 1 epochs\n",
      "\n",
      "Epoch 22/30\n"
     ]
    },
    {
     "name": "stderr",
     "output_type": "stream",
     "text": [
      "Training: 100%|██████████| 547/547 [01:05<00:00,  8.33it/s, Loss=1.4313, Clean=50.83%, Adv=30.71%]\n"
     ]
    },
    {
     "name": "stdout",
     "output_type": "stream",
     "text": [
      "Validation - Loss: 1.3192\n",
      "Clean Accuracy: 50.47%, PGD: 23.26%, FGSM: 27.13%\n",
      "No improvement in weighted accuracy for 1 epochs\n",
      "\n",
      "Epoch 23/30\n"
     ]
    },
    {
     "name": "stderr",
     "output_type": "stream",
     "text": [
      "Training: 100%|██████████| 547/547 [00:55<00:00,  9.82it/s, Loss=1.4264, Clean=51.14%, Adv=30.63%]\n"
     ]
    },
    {
     "name": "stdout",
     "output_type": "stream",
     "text": [
      "Validation - Loss: 1.3154\n",
      "Clean Accuracy: 50.61%, PGD: 24.56%, FGSM: 29.13%\n",
      "✅ New best FGSM accuracy: 29.13%\n",
      "No improvement in weighted accuracy for 1 epochs\n",
      "\n",
      "Epoch 24/30\n"
     ]
    },
    {
     "name": "stderr",
     "output_type": "stream",
     "text": [
      "Training: 100%|██████████| 547/547 [01:00<00:00,  9.00it/s, Loss=1.4214, Clean=51.37%, Adv=30.95%]\n"
     ]
    },
    {
     "name": "stdout",
     "output_type": "stream",
     "text": [
      "Validation - Loss: 1.3016\n",
      "Clean Accuracy: 51.81%, PGD: 22.41%, FGSM: 28.00%\n",
      "✅ New best clean accuracy: 51.81%\n",
      "No improvement in weighted accuracy for 1 epochs\n",
      "\n",
      "Epoch 25/30\n"
     ]
    },
    {
     "name": "stderr",
     "output_type": "stream",
     "text": [
      "Training: 100%|██████████| 547/547 [01:06<00:00,  8.29it/s, Loss=1.4168, Clean=51.41%, Adv=31.06%]\n"
     ]
    },
    {
     "name": "stdout",
     "output_type": "stream",
     "text": [
      "Validation - Loss: 1.2964\n",
      "Clean Accuracy: 51.97%, PGD: 23.05%, FGSM: 28.54%\n",
      "✅ New best clean accuracy: 51.97%\n",
      "✅ New best weighted accuracy: 40.40%\n",
      "No improvement in weighted accuracy for 1 epochs\n",
      "\n",
      "Epoch 26/30\n"
     ]
    },
    {
     "name": "stderr",
     "output_type": "stream",
     "text": [
      "Training: 100%|██████████| 547/547 [01:05<00:00,  8.34it/s, Loss=1.4079, Clean=52.05%, Adv=31.53%]\n"
     ]
    },
    {
     "name": "stdout",
     "output_type": "stream",
     "text": [
      "Validation - Loss: 1.2868\n",
      "Clean Accuracy: 52.12%, PGD: 24.53%, FGSM: 30.43%\n",
      "✅ New best clean accuracy: 52.12%\n",
      "✅ New best FGSM accuracy: 30.43%\n",
      "✅ New best weighted accuracy: 41.08%\n",
      "No improvement in weighted accuracy for 1 epochs\n",
      "\n",
      "Epoch 27/30\n"
     ]
    },
    {
     "name": "stderr",
     "output_type": "stream",
     "text": [
      "Training: 100%|██████████| 547/547 [00:53<00:00, 10.23it/s, Loss=1.4050, Clean=52.19%, Adv=31.46%]\n"
     ]
    },
    {
     "name": "stdout",
     "output_type": "stream",
     "text": [
      "Validation - Loss: 1.2963\n",
      "Clean Accuracy: 52.28%, PGD: 19.65%, FGSM: 26.09%\n",
      "✅ New best clean accuracy: 52.28%\n",
      "No improvement in weighted accuracy for 1 epochs\n",
      "\n",
      "Epoch 28/30\n"
     ]
    },
    {
     "name": "stderr",
     "output_type": "stream",
     "text": [
      "Training: 100%|██████████| 547/547 [01:00<00:00,  9.06it/s, Loss=1.3981, Clean=52.56%, Adv=31.60%]\n"
     ]
    },
    {
     "name": "stdout",
     "output_type": "stream",
     "text": [
      "Validation - Loss: 1.2960\n",
      "Clean Accuracy: 51.59%, PGD: 19.63%, FGSM: 24.50%\n",
      "No improvement in weighted accuracy for 1 epochs\n",
      "\n",
      "Epoch 29/30\n"
     ]
    },
    {
     "name": "stderr",
     "output_type": "stream",
     "text": [
      "Training: 100%|██████████| 547/547 [00:41<00:00, 13.15it/s, Loss=1.3950, Clean=52.57%, Adv=31.66%]\n"
     ]
    },
    {
     "name": "stdout",
     "output_type": "stream",
     "text": [
      "Validation - Loss: 1.2799\n",
      "Clean Accuracy: 53.01%, PGD: 24.31%, FGSM: 27.60%\n",
      "✅ New best clean accuracy: 53.01%\n",
      "✅ New best weighted accuracy: 41.53%\n",
      "No improvement in weighted accuracy for 1 epochs\n",
      "\n",
      "Epoch 30/30\n"
     ]
    },
    {
     "name": "stderr",
     "output_type": "stream",
     "text": [
      "Training: 100%|██████████| 547/547 [00:51<00:00, 10.71it/s, Loss=1.3863, Clean=53.14%, Adv=31.95%]\n"
     ]
    },
    {
     "name": "stdout",
     "output_type": "stream",
     "text": [
      "Validation - Loss: 1.2771\n",
      "Clean Accuracy: 52.88%, PGD: 16.11%, FGSM: 22.67%\n",
      "No improvement in weighted accuracy for 1 epochs\n"
     ]
    },
    {
     "data": {
      "image/png": "[encoded data removed]",
      "text/plain": [
       "<Figure size 1500x500 with 2 Axes>"
      ]
     },
     "metadata": {},
     "output_type": "display_data"
    },
    {
     "name": "stdout",
     "output_type": "stream",
     "text": [
      "Training completed.\n",
      "Best clean accuracy: 53.01%\n",
      "Best PGD accuracy: 25.95%\n",
      "Best FGSM accuracy: 30.43%\n",
      "Best weighted accuracy: 41.53%\n"
     ]
    },
    {
     "ename": "ValueError",
     "evalue": "too many values to unpack (expected 3)",
     "output_type": "error",
     "traceback": [
      "\u001b[0;31m---------------------------------------------------------------------------\u001b[0m",
      "\u001b[0;31mValueError\u001b[0m                                Traceback (most recent call last)",
      "Cell \u001b[0;32mIn[13], line 5\u001b[0m\n\u001b[1;32m      3\u001b[0m \u001b[38;5;66;03m# Start adversarial training\u001b[39;00m\n\u001b[1;32m      4\u001b[0m \u001b[38;5;28mprint\u001b[39m(\u001b[38;5;124mf\u001b[39m\u001b[38;5;124m\"\u001b[39m\u001b[38;5;124mStarting adversarial training with \u001b[39m\u001b[38;5;132;01m{\u001b[39;00mconfig\u001b[38;5;241m.\u001b[39mEPOCHS\u001b[38;5;132;01m}\u001b[39;00m\u001b[38;5;124m epochs...\u001b[39m\u001b[38;5;124m\"\u001b[39m)\n\u001b[0;32m----> 5\u001b[0m best_weighted_acc, best_clean_acc, best_adv_acc \u001b[38;5;241m=\u001b[39m train_model(\n\u001b[1;32m      6\u001b[0m     model\u001b[38;5;241m=\u001b[39mmodel,\n\u001b[1;32m      7\u001b[0m     train_loader\u001b[38;5;241m=\u001b[39mtrain_loader,\n\u001b[1;32m      8\u001b[0m     val_loader\u001b[38;5;241m=\u001b[39mval_loader,  \u001b[38;5;66;03m# Using test_loader as validation\u001b[39;00m\n\u001b[1;32m      9\u001b[0m     criterion\u001b[38;5;241m=\u001b[39mcriterion,\n\u001b[1;32m     10\u001b[0m     optimizer\u001b[38;5;241m=\u001b[39moptimizer,\n\u001b[1;32m     11\u001b[0m     scheduler\u001b[38;5;241m=\u001b[39mscheduler,\n\u001b[1;32m     12\u001b[0m     epochs\u001b[38;5;241m=\u001b[39mconfig\u001b[38;5;241m.\u001b[39mEPOCHS\n\u001b[1;32m     13\u001b[0m )\n",
      "\u001b[0;31mValueError\u001b[0m: too many values to unpack (expected 3)"
     ]
    }
   ],
   "source": [
    "os.environ[\"CUDA_VISIBLE_DEVICES\"] = \"1\"\n",
    "\n",
    "# Start adversarial training\n",
    "print(f\"Starting adversarial training with {config.EPOCHS} epochs...\")\n",
    "best_weighted_acc, best_clean_acc, best_adv_acc = train_model(\n",
    "    model=model,\n",
    "    train_loader=train_loader,\n",
    "    val_loader=val_loader,  # Using test_loader as validation\n",
    "    criterion=criterion,\n",
    "    optimizer=optimizer,\n",
    "    scheduler=scheduler,\n",
    "    epochs=config.EPOCHS\n",
    ")"
   ]
  },
  {
   "cell_type": "code",
   "execution_count": null,
   "id": "ce040526",
   "metadata": {},
   "outputs": [
    {
     "name": "stdout",
     "output_type": "stream",
     "text": [
      "🔄 Manually saving model...\n"
     ]
    }
   ],
   "source": [
    "# Manual save of the trained model\n",
    "# print(\"🔄 Manually saving model...\")\n",
    "\n",
    "# Make sure directories exist \n",
    "# os.makedirs(os.path.dirname(config.FINAL_MODEL_PATH), exist_ok=True)\n",
    "# os.makedirs(os.path.dirname(config.CHECKPOINT_PATH), exist_ok=True)\n",
    "\n",
    "# Save just the model state dict for submission\n",
    "# torch.save(model.state_dict(), config.FINAL_MODEL_PATH)\n",
    "# print(f\"✅ Model state dict saved to: {config.FINAL_MODEL_PATH}\")\n",
    "\n",
    "# Save full checkpoint with metrics\n",
    "# checkpoint_data = {\n",
    "#     'epoch': config.EPOCHS,\n",
    "#     'model_state_dict': model.state_dict(),\n",
    "#     'optimizer_state_dict': optimizer.state_dict(),\n",
    "#     'best_clean_acc': best_clean_acc,\n",
    "#     'best_pgd_acc': best_adv_acc,\n",
    "#     'best_weighted_acc': best_weighted_acc\n",
    "# }\n",
    "# torch.save(checkpoint_data, config.CHECKPOINT_PATH)\n",
    "# print(f\"✅ Checkpoint saved to: {config.CHECKPOINT_PATH}\")\n",
    "\n",
    "# # Verify files exist\n",
    "# print(f\"Checkpoint exists: {os.path.exists(config.CHECKPOINT_PATH)}\")\n",
    "# print(f\"Model exists: {os.path.exists(config.FINAL_MODEL_PATH)}\")"
   ]
  },
  {
   "cell_type": "code",
   "execution_count": null,
   "id": "f22454af",
   "metadata": {},
   "outputs": [],
   "source": [
    "def load_best_model():\n",
    "    \"\"\"Load the best model from checkpoint\"\"\"\n",
    "    print(f\"Looking for checkpoint at: {config.CHECKPOINT_PATH}\")\n",
    "    \n",
    "    # Check if checkpoint exists\n",
    "    if not os.path.exists(config.CHECKPOINT_PATH):\n",
    "        print(f\"❌ Checkpoint not found. Will train a new model.\")\n",
    "        return None, None\n",
    "    \n",
    "    print(f\"✅ Loading existing checkpoint\")\n",
    "    checkpoint = torch.load(config.CHECKPOINT_PATH, map_location=device)\n",
    "    \n",
    "    # Create a fresh model\n",
    "    model, criterion, _, _ = create_model()\n",
    "    \n",
    "    # Load the saved state\n",
    "    model.load_state_dict(checkpoint['model_state_dict'])\n",
    "    \n",
    "    print(f\"Loaded model from epoch {checkpoint['epoch']}\")\n",
    "    if 'best_weighted_acc' in checkpoint:\n",
    "        print(f\"Best weighted accuracy: {checkpoint['best_weighted_acc']:.2f}%\")\n",
    "    if 'best_clean_acc' in checkpoint:\n",
    "        print(f\"Best clean accuracy: {checkpoint['best_clean_acc']:.2f}%\")\n",
    "    if 'best_pgd_acc' in checkpoint:\n",
    "        print(f\"Best PGD accuracy: {checkpoint['best_pgd_acc']:.2f}%\")\n",
    "    if 'best_fgsm_acc' in checkpoint:\n",
    "        print(f\"Best FGSM accuracy: {checkpoint['best_fgsm_acc']:.2f}%\")\n",
    "    \n",
    "    return model, criterion"
   ]
  },
  {
   "cell_type": "code",
   "execution_count": null,
   "id": "c2c65bc1",
   "metadata": {},
   "outputs": [],
   "source": [
    "allowed_models = {\n",
    "    \"resnet18\": models.resnet18,\n",
    "    \"resnet34\": models.resnet34,\n",
    "    \"resnet50\": models.resnet50,\n",
    "}\n",
    "with open(\"/Users/javedakhtar/Downloads/final_high_acc_model.pt\", \"rb\") as f:\n",
    "    try:\n",
    "        model: torch.nn.Module = allowed_models[\"resnet34\"](weights=None)\n",
    "        model.fc = torch.nn.Linear(model.fc.weight.shape[1], 10)\n",
    "    except Exception as e:\n",
    "        raise Exception(\n",
    "            f\"Invalid model class, {e=}, only {allowed_models.keys()} are allowed\",\n",
    "        )\n",
    "    try:\n",
    "        state_dict = torch.load(f, map_location=torch.device(\"cpu\"))\n",
    "        model.load_state_dict(state_dict, strict=True)\n",
    "        model.eval()\n",
    "        out = model(torch.randn(1, 3, 32, 32))\n",
    "    except Exception as e:\n",
    "        raise Exception(f\"Invalid model, {e=}\")\n",
    "\n",
    "    assert out.shape == (1, 10), \"Invalid output shape\""
   ]
  },
  {
   "cell_type": "code",
   "execution_count": null,
   "id": "fbaf4818",
   "metadata": {},
   "outputs": [
    {
     "name": "stdout",
     "output_type": "stream",
     "text": [
      "{'clean_accuracy': 0.587, 'fgsm_accuracy': 0.14633333333333334, 'pgd_accuracy': 0.0026666666666666666})\n"
     ]
    }
   ],
   "source": [
    "import requests\n",
    "# Send the model to the server, replace the string \"TOKEN\" with the string of token provided to you\n",
    "response = requests.post(\"http://34.122.51.94:9090/robustness\", files={\"file\": open(\"/Users/javedakhtar/Downloads/final_high_acc_model.pt\", \"rb\")}, headers={\"token\": str(50407833), \"model-name\": \"resnet34\"})\n",
    "\n",
    "# Should be 400, the clean accuracy is too low\n",
    "print(response.json())"
   ]
  },
  {
   "cell_type": "code",
   "execution_count": null,
   "id": "8bdd39aa",
   "metadata": {},
   "outputs": [],
   "source": [
    "print(\"{'clean_accuracy': 0.587, 'fgsm_accuracy': 0.14633333333333334, 'pgd_accuracy': 0.0026666666666666666})\")"
   ]
  }
 ],
 "metadata": {
  "kernelspec": {
   "display_name": "paisdb",
   "language": "python",
   "name": "python3"
  },
  "language_info": {
   "codemirror_mode": {
    "name": "ipython",
    "version": 3
   },
   "file_extension": ".py",
   "mimetype": "text/x-python",
   "name": "python",
   "nbconvert_exporter": "python",
   "pygments_lexer": "ipython3",
   "version": "3.10.16"
  }
 },
 "nbformat": 4,
 "nbformat_minor": 5
}
